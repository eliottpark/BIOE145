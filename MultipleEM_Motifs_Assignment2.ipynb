{
  "nbformat": 4,
  "nbformat_minor": 0,
  "metadata": {
    "kernelspec": {
      "display_name": "Python 3",
      "language": "python",
      "name": "python3"
    },
    "language_info": {
      "codemirror_mode": {
        "name": "ipython",
        "version": 3
      },
      "file_extension": ".py",
      "mimetype": "text/x-python",
      "name": "python",
      "nbconvert_exporter": "python",
      "pygments_lexer": "ipython3",
      "version": "3.7.4"
    },
    "colab": {
      "name": "MultipleEM-Motifs-Assignment2.ipynb",
      "provenance": [],
      "collapsed_sections": [],
      "include_colab_link": true
    }
  },
  "cells": [
    {
      "cell_type": "markdown",
      "metadata": {
        "id": "view-in-github",
        "colab_type": "text"
      },
      "source": [
        "<a href=\"https://colab.research.google.com/github/eliottpark/BIOE145/blob/main/MultipleEM_Motifs_Assignment2.ipynb\" target=\"_parent\"><img src=\"https://colab.research.google.com/assets/colab-badge.svg\" alt=\"Open In Colab\"/></a>"
      ]
    },
    {
      "cell_type": "markdown",
      "metadata": {
        "id": "d3Xp7xoLSIPI"
      },
      "source": [
        "# Multiple EM for Motif Elicitation"
      ]
    },
    {
      "cell_type": "code",
      "metadata": {
        "colab": {
          "base_uri": "https://localhost:8080/"
        },
        "id": "alUn_U8Z5J-t",
        "outputId": "4bbfb353-920e-4047-8854-9684b36ed8fe"
      },
      "source": [
        "%pip install biopython"
      ],
      "execution_count": null,
      "outputs": [
        {
          "output_type": "stream",
          "text": [
            "Requirement already satisfied: biopython in /usr/local/lib/python3.6/dist-packages (1.78)\n",
            "Requirement already satisfied: numpy in /usr/local/lib/python3.6/dist-packages (from biopython) (1.19.5)\n"
          ],
          "name": "stdout"
        }
      ]
    },
    {
      "cell_type": "code",
      "metadata": {
        "id": "ThQQEJI0SIPO"
      },
      "source": [
        "import numpy as np\n",
        "from sklearn.preprocessing import normalize\n",
        "from Bio import SeqIO"
      ],
      "execution_count": null,
      "outputs": []
    },
    {
      "cell_type": "code",
      "metadata": {
        "id": "S41SQ68mSIPP"
      },
      "source": [
        "# Constant used in this exercise\n",
        "# Fill in all of the ...s/TODOs\n",
        "width = 8\n",
        "\n",
        "# Helper dict for indexing\n",
        "let_dict = {\"A\":0, \"C\":1, \"G\":2, \"T\":3}"
      ],
      "execution_count": null,
      "outputs": []
    },
    {
      "cell_type": "markdown",
      "metadata": {
        "id": "AO4H2Sf5SIPP"
      },
      "source": [
        "## 1. Read in Fasta Sequences"
      ]
    },
    {
      "cell_type": "code",
      "metadata": {
        "id": "tRA-P_M0SIPP"
      },
      "source": [
        "# Read in the files using BioPython\n",
        "# TODO:\n",
        "records = [] # as Seq record objects\n",
        "for record in SeqIO.parse(\"motif-regions.fa\", \"fasta\"):\n",
        "  records.append(record)"
      ],
      "execution_count": null,
      "outputs": []
    },
    {
      "cell_type": "code",
      "metadata": {
        "id": "BzpIdrzNSIPQ"
      },
      "source": [
        "# Extract strings of sequences from the above files\n",
        "# TODO:\n",
        "\n",
        "sequences = []\n",
        "for record in records:\n",
        "  sequences.append(str(record.seq))"
      ],
      "execution_count": null,
      "outputs": []
    },
    {
      "cell_type": "markdown",
      "metadata": {
        "id": "nIItXKGtSIPQ"
      },
      "source": [
        "## 2. Create p_0"
      ]
    },
    {
      "cell_type": "code",
      "metadata": {
        "id": "UBUPQTtLSIPR"
      },
      "source": [
        "# Initialize p with a uniform background\n",
        "\n",
        "def init_p(l, w, seqs, let):\n",
        "    \"\"\"\n",
        "    Initialize standing probabilites.\n",
        "    l: sequence length\n",
        "    w: motif length\n",
        "    let: letter dictionary\n",
        "    \"\"\"\n",
        "    p = np.zeros((4, w+1))\n",
        "\n",
        "    # set a uniform background for each A C G T\n",
        "    # The 0th index represents background probabilites\n",
        "    # TODO:\n",
        "    for i in range(len(let)):\n",
        "        # TODO:\n",
        "        p[i][0] = 0.25\n",
        "\n",
        "    # set motif positions\n",
        "    for i in range(l-w+1):\n",
        "        for sequence in seqs:\n",
        "            for j in range(w):\n",
        "                # Fill in p_0\n",
        "                # TODO:\n",
        "                p[let[sequence[i+j]]][j+1] += 1\n",
        "                \n",
        "    # normalize columns to sum to 1\n",
        "    p = normalize(p, axis = 0, norm = 'l1')\n",
        "    \n",
        "    return p"
      ],
      "execution_count": null,
      "outputs": []
    },
    {
      "cell_type": "markdown",
      "metadata": {
        "id": "4CckB_93SIPR"
      },
      "source": [
        "## 3. Fill in EM iteration"
      ]
    },
    {
      "cell_type": "code",
      "metadata": {
        "id": "8wi1AOMtSIPR"
      },
      "source": [
        "# Define a general function to run EM\n",
        "\n",
        "def run_EM(w, seqs, let, init_p, up_prob, up_motif, epsilon = 0.0001):\n",
        "    \n",
        "    l = len(seqs[0])\n",
        "    \n",
        "    no_change = False\n",
        "    \n",
        "    # set an initial p_t_1\n",
        "    # TODO:\n",
        "    p_t_1 = init_p(l, width, seqs, let)\n",
        "        \n",
        "    while not no_change:\n",
        "        \n",
        "        # Label the following steps as E step or M step in the comment preceding\n",
        "        \n",
        "        # TODO:\n",
        "        # E Step\n",
        "                \n",
        "        z_t = up_motif(l, w, p_t_1, seqs, let)\n",
        "        \n",
        "        # TODO:\n",
        "        # Maximization\n",
        "                \n",
        "        p_t = up_prob(l, w, z_t, seqs, let)\n",
        "        \n",
        "        diff = np.subtract(p_t, p_t_1)\n",
        "        \n",
        "        # Write a condition to stop the EM iterations (use epsilon and diff)\n",
        "        # TODO:\n",
        "        if np.all(diff < epsilon):        \n",
        "            no_change = True\n",
        "        else:\n",
        "            # Update p_t_1\n",
        "            # TODO:\n",
        "            p_t_1 = p_t\n",
        "                \n",
        "    return p_t, z_t"
      ],
      "execution_count": null,
      "outputs": []
    },
    {
      "cell_type": "markdown",
      "metadata": {
        "id": "kOjwwTD4SIPR"
      },
      "source": [
        "## 4. Fill in function to update z_t"
      ]
    },
    {
      "cell_type": "code",
      "metadata": {
        "id": "laKjb0rkSIPS"
      },
      "source": [
        "# Define a function to update z\n",
        "\n",
        "def up_motif(l, w, p_t_1, seqs, let):\n",
        "    z_t = np.zeros((len(seqs), l-w+1))\n",
        "\n",
        "    for i, sequence in enumerate(seqs):\n",
        "        for j in range(l-w+1):\n",
        "            \n",
        "            # Fill in z_t using p_t_1\n",
        "            # Ignore background as we're assuming 0.25 for all 4\n",
        "            # TODO:\n",
        "            z_t[i][j] = 1/(l-w+1)\n",
        "            for k in range(w):\n",
        "              z_t[i][j] *= p_t_1[let[sequence[j+k]]][k+1]\n",
        "    \n",
        "    # Normalize z_t\n",
        "    # TODO:\n",
        "    z_t = normalize(z_t, axis = 1, norm = 'l1')\n",
        "        \n",
        "    return z_t\n",
        "    "
      ],
      "execution_count": null,
      "outputs": []
    },
    {
      "cell_type": "markdown",
      "metadata": {
        "id": "RaJe_D4gSIPS"
      },
      "source": [
        "## 5. Fill in function to update p_t"
      ]
    },
    {
      "cell_type": "code",
      "metadata": {
        "id": "A-5Yoag_SIPS"
      },
      "source": [
        "# Define a function to update p\n",
        "\n",
        "def up_prob(l, w, z_t, seqs, let):\n",
        "    p_t = np.zeros((4, w+1))\n",
        "    \n",
        "    n = np.zeros((4, w+1))\n",
        "    \n",
        "    # Fill in n for k > 0\n",
        "    for k in range(1, w+1):\n",
        "        for letter in let.keys():\n",
        "            sum_z = 0\n",
        "            for i, sequence in enumerate(seqs):\n",
        "                \n",
        "                # Write j_vals according to the condition seen in lecture\n",
        "                # TODO:\n",
        "                for j in range(l-w+1):\n",
        "                  if sequence[j+k-1] == letter:\n",
        "                    sum_z += z_t[i][j]\n",
        "            \n",
        "            # Fill in the correct indices\n",
        "            # TODO:\n",
        "            n[let[letter]][k] = sum_z\n",
        "                 \n",
        "    # Fill in n for k == 0\n",
        "    \n",
        "    # May help to make the next step easier\n",
        "    joined_seq = \"\".join(seqs)\n",
        "    \n",
        "    # Create a dict with total counts of A,C,G,T\n",
        "    # TODO:\n",
        "    counts = {c:joined_seq.count(c) for (c,v) in let_dict.items()}\n",
        "        \n",
        "    # Sum across the rows of n\n",
        "    # TODO:\n",
        "    sum_n_j = np.sum(n, axis=1)\n",
        "        \n",
        "    for i, letter in enumerate(let.keys()):\n",
        "        \n",
        "        # Fill in the correct indices and its value\n",
        "        # TODO:\n",
        "        n[let[letter]][0] = counts[letter] - sum_n_j[i]\n",
        "\n",
        "    \n",
        "    # Use n to fill in p_t\n",
        "    # Pseudo-count = 1\n",
        "    # TODO:\n",
        "    denom = np.sum(n, axis=0)\n",
        "    for k in range(w+1):\n",
        "      for letter in let.keys():\n",
        "        p_t[let[letter]][k] = (n[let[letter]][k] + 1)/ (denom[k] + 4)\n",
        "        \n",
        "    return p_t\n",
        "    "
      ],
      "execution_count": null,
      "outputs": []
    },
    {
      "cell_type": "markdown",
      "metadata": {
        "id": "NgouR1EgSIPT"
      },
      "source": [
        "## 6. Run the EM to find the final p and z"
      ]
    },
    {
      "cell_type": "code",
      "metadata": {
        "id": "JnKz_e3zSIPT"
      },
      "source": [
        "# Use the variables set at the start and \n",
        "# TODO:\n",
        "p_end, z_end = run_EM(width, sequences, let_dict, init_p, up_prob, up_motif)"
      ],
      "execution_count": null,
      "outputs": []
    },
    {
      "cell_type": "markdown",
      "metadata": {
        "id": "rRMySnZPSIPT"
      },
      "source": [
        "## 7. Determine Motifs"
      ]
    },
    {
      "cell_type": "code",
      "metadata": {
        "id": "j_NFvF6gSIPT",
        "colab": {
          "base_uri": "https://localhost:8080/"
        },
        "outputId": "e435182d-684f-46ae-aac2-d05deda9b6c2"
      },
      "source": [
        "# Find the indices of the max element for each row in z_end\n",
        "# TODO:\n",
        "motif_indices = np.argmax(z_end, axis=1)\n",
        "\n",
        "# Get the 'width' characters long motifs using seqs\n",
        "# TODO:\n",
        "motifs = [sequences[i][k:k+width] for (i,k) in enumerate(motif_indices)]\n",
        "print(motifs)"
      ],
      "execution_count": null,
      "outputs": [
        {
          "output_type": "stream",
          "text": [
            "['AGAAAAAT', 'TGTAGATT', 'AATACAAT', 'GGAAAATT', 'AGAAGATT', 'AGAAAAAA', 'AGAACAAT', 'AGAAAAAA', 'AGAATATT', 'AAAAAATT', 'AGAAAAAA', 'AGAAAAAA', 'AAAAAAAT', 'AGAATATT', 'GGAAGGTT', 'AGAACATT', 'AGAAAATG', 'AGAAAAAA', 'GCTAAATT', 'AAAAAAAT', 'GGAAAAAG', 'AGAACCAT', 'GGAAATTT', 'ACAACAAG', 'AAAAAAAT', 'ACAAAATT', 'AGAAAAAT', 'AGAAAAAT', 'AAAAGAAT', 'AGAAATTT', 'GGAAAAAT', 'CGAAAATT', 'GGAAAATT', 'AAAAGATT', 'AGAAAAAA', 'GGAAGAAA', 'AGAAGAAA', 'AAAAGATT', 'AATAGAAT', 'GGAAAAAT', 'AAAAAAAT', 'AGAATAAT', 'AGAACAAT', 'AAAAGCTG', 'AGAAAAAT', 'AGAAAAAT', 'GGAAAATC', 'GGAAAATT', 'AAAAAAAT', 'GCTAGATT']\n"
          ],
          "name": "stdout"
        }
      ]
    }
  ]
}