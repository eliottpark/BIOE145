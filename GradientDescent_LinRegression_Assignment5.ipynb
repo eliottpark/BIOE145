{
  "nbformat": 4,
  "nbformat_minor": 0,
  "metadata": {
    "colab": {
      "name": "GradientDescent-LinRegression-Assignment5.ipynb",
      "provenance": [],
      "collapsed_sections": [],
      "include_colab_link": true
    },
    "kernelspec": {
      "display_name": "Python 3",
      "language": "python",
      "name": "python3"
    },
    "language_info": {
      "codemirror_mode": {
        "name": "ipython",
        "version": 3
      },
      "file_extension": ".py",
      "mimetype": "text/x-python",
      "name": "python",
      "nbconvert_exporter": "python",
      "pygments_lexer": "ipython3",
      "version": "3.7.4"
    }
  },
  "cells": [
    {
      "cell_type": "markdown",
      "metadata": {
        "id": "view-in-github",
        "colab_type": "text"
      },
      "source": [
        "<a href=\"https://colab.research.google.com/github/eliottpark/BIOE145/blob/main/GradientDescent_LinRegression_Assignment5.ipynb\" target=\"_parent\"><img src=\"https://colab.research.google.com/assets/colab-badge.svg\" alt=\"Open In Colab\"/></a>"
      ]
    },
    {
      "cell_type": "markdown",
      "metadata": {
        "id": "fCztPzhn8wZp"
      },
      "source": [
        "# Assignment 5: Gradient Descent - Linear Regression"
      ]
    },
    {
      "cell_type": "code",
      "metadata": {
        "id": "Nc-14RLZcH31"
      },
      "source": [
        "import numpy as np\n",
        "import matplotlib.pyplot as plt\n",
        "import sklearn.datasets\n",
        "import sklearn.model_selection"
      ],
      "execution_count": null,
      "outputs": []
    },
    {
      "cell_type": "code",
      "metadata": {
        "id": "Gcsj0iecTRWP"
      },
      "source": [
        "# Set up data \n",
        "diabetes_X, diabetes_y = sklearn.datasets.load_diabetes(return_X_y = True)\n",
        "# Split into train and test sets\n",
        "split = sklearn.model_selection.train_test_split(diabetes_X, diabetes_y)\n",
        "diabetes_X_train, diabetes_X_test, diabetes_y_train, diabetes_y_test = split"
      ],
      "execution_count": null,
      "outputs": []
    },
    {
      "cell_type": "markdown",
      "metadata": {
        "id": "zvHU9OiTcLgt"
      },
      "source": [
        "## 1. Loss Functions\n",
        "\n",
        "In this exercise we'll be considering a simple linear model:\n",
        "\n",
        "$$y \\approx \\theta x$$\n",
        "\n",
        "The hypothesis for the model is written as\n",
        "\n",
        "$$h(\\theta) = \\theta x$$\n",
        "\n",
        "### a. Fill in the following methods for the loss functions and their derivatives.\n"
      ]
    },
    {
      "cell_type": "code",
      "metadata": {
        "id": "8z1kDe-8fwbg"
      },
      "source": [
        "def squared_loss(X, theta, y):\n",
        "    \"\"\"\n",
        "    Returns the squared loss\n",
        "    \n",
        "    Input:\n",
        "    X: n length vector - n datapoints\n",
        "    theta: scalar\n",
        "    y: n length vector\n",
        "    \n",
        "    Output:\n",
        "    loss: scalar\n",
        "    \"\"\"\n",
        "    # TODO:\n",
        "    loss = np.sum(np.square(theta*X - y))\n",
        "\n",
        "    return loss"
      ],
      "execution_count": null,
      "outputs": []
    },
    {
      "cell_type": "code",
      "metadata": {
        "id": "vruF1dde7NLh"
      },
      "source": [
        "def squared_deriv(X, theta, y):\n",
        "    \"\"\"\n",
        "    Returns the gradient wrt theta of the squared loss\n",
        "    \n",
        "    Input:\n",
        "    X: n length vector - n datapoints\n",
        "    theta: scalar\n",
        "    y: n length vector\n",
        "    \n",
        "    Output:\n",
        "    grad: scalar\n",
        "    \"\"\"\n",
        "    # TODO:\n",
        "    grad = np.sum(2*(theta*X**2 - X*y))\n",
        "\n",
        "    return grad"
      ],
      "execution_count": null,
      "outputs": []
    },
    {
      "cell_type": "code",
      "metadata": {
        "id": "4jFOdAa0gYyx"
      },
      "source": [
        "def abs_loss(X, theta, y):\n",
        "    \"\"\"\n",
        "    Returns the absolute value loss\n",
        "    \n",
        "    Input:\n",
        "    X: n length vector - n datapoints\n",
        "    theta: scalar\n",
        "    y: n length vector\n",
        "    \n",
        "    Output:\n",
        "    loss: scalar\n",
        "    \"\"\"\n",
        "    # TODO:\n",
        "    loss = np.sum(np.abs(theta*X - y))\n",
        "\n",
        "    return loss"
      ],
      "execution_count": null,
      "outputs": []
    },
    {
      "cell_type": "code",
      "metadata": {
        "id": "saxUgAYrgxLV"
      },
      "source": [
        "def abs_deriv(X, theta, y):\n",
        "    \"\"\"\n",
        "    Returns the gradient wrt theta of the absolute loss\n",
        "    \n",
        "    Input:\n",
        "    X: n length vector - n datapoints\n",
        "    theta: scalar\n",
        "    y: n length vector\n",
        "    \n",
        "    Output:\n",
        "    grad: scalar\n",
        "    \"\"\"\n",
        "    # TODO:\n",
        "    grad = np.sum(X*(theta*X - y)/(np.abs(theta*X - y)+ 1e-15))\n",
        "\n",
        "    return grad"
      ],
      "execution_count": null,
      "outputs": []
    },
    {
      "cell_type": "markdown",
      "metadata": {
        "id": "pXXkxnha8sDf"
      },
      "source": [
        "### b. Plot the loss and the gradient for the provided data, simple_x and simple_y\n",
        "\n",
        "In other words, compute an array of losses + gradients with pos_theta (find  loss and gradient for each possible theta)."
      ]
    },
    {
      "cell_type": "code",
      "metadata": {
        "id": "zsuoZEwM8q3d",
        "colab": {
          "base_uri": "https://localhost:8080/",
          "height": 390
        },
        "outputId": "2ff3ff2f-2b34-4825-cb82-5fec14cf49a2"
      },
      "source": [
        "# Data you'll use with the above methods\n",
        "simple_x = np.arange(-20,20,0.5)\n",
        "\n",
        "# Yields a float between 3 and 7\n",
        "true_theta = 4*np.random.random_sample()+3\n",
        "# Add noise and scale y\n",
        "simple_y = true_theta*simple_x + np.random.normal(scale = 10, size=simple_x.shape)\n",
        "\n",
        "plt.figure(figsize = (8,6))\n",
        "plt.title(\"Simple Data for Linear Regression\")\n",
        "plt.scatter(simple_x, simple_y, linewidths=0.5)\n",
        "plt.show()"
      ],
      "execution_count": null,
      "outputs": [
        {
          "output_type": "display_data",
          "data": {
            "image/png": "[encoded data removed]",
            "text/plain": [
              "<Figure size 576x432 with 1 Axes>"
            ]
          },
          "metadata": {
            "tags": [],
            "needs_background": "light"
          }
        }
      ]
    },
    {
      "cell_type": "code",
      "metadata": {
        "id": "ag-8NaC2ALHK"
      },
      "source": [
        "# Possible theta values (to iterate through)\n",
        "pos_theta = np.arange(0, 10, 0.01)"
      ],
      "execution_count": null,
      "outputs": []
    },
    {
      "cell_type": "code",
      "metadata": {
        "id": "jq3YBLBGFSaM",
        "colab": {
          "base_uri": "https://localhost:8080/",
          "height": 677
        },
        "outputId": "67e803da-e9dc-4617-e7c1-114e309884df"
      },
      "source": [
        "# Plot squared loss and gradient\n",
        "plt.figure(figsize=(8,10))\n",
        "plt.suptitle(\"Squared Loss Function\")\n",
        "plt.subplots_adjust(hspace=0.2)\n",
        "plt.subplot(2,1,1)\n",
        "\n",
        "# TODO: Find and plot loss\n",
        "plt.plot(pos_theta, [squared_loss(simple_x, theta, simple_y) for theta in pos_theta])\n",
        "plt.title(\"Loss\")\n",
        "\n",
        "plt.subplot(2,1,2)\n",
        "\n",
        "# TODO: Find and plot gradient\n",
        "plt.plot(pos_theta, [squared_deriv(simple_x, theta, simple_y) for theta in pos_theta])\n",
        "plt.title(\"Gradient\")\n",
        "plt.xlabel(\"Theta\")\n",
        "\n",
        "plt.show()"
      ],
      "execution_count": null,
      "outputs": [
        {
          "output_type": "display_data",
          "data": {
            "image/png": "[encoded data removed]",
            "text/plain": [
              "<Figure size 576x720 with 2 Axes>"
            ]
          },
          "metadata": {
            "tags": [],
            "needs_background": "light"
          }
        }
      ]
    },
    {
      "cell_type": "code",
      "metadata": {
        "id": "YOSVrgfSSKY6",
        "colab": {
          "base_uri": "https://localhost:8080/",
          "height": 677
        },
        "outputId": "2d714f38-4dcc-44dc-e8c4-a08851ff2c9a"
      },
      "source": [
        "# Plot absolute loss and gradient\n",
        "plt.figure(figsize=(8,10))\n",
        "plt.suptitle(\"Absolute Loss Function\")\n",
        "plt.subplots_adjust(hspace=0.2)\n",
        "plt.subplot(2,1,1)\n",
        "\n",
        "# TODO: Find and plot loss\n",
        "\n",
        "plt.title(\"Loss\")\n",
        "plt.plot(pos_theta, [abs_loss(simple_x, theta, simple_y) for theta in pos_theta])\n",
        "plt.subplot(2,1,2)\n",
        "\n",
        "# TODO: Find and plot gradient\n",
        "\n",
        "plt.plot(pos_theta, [abs_deriv(simple_x, theta, simple_y) for theta in pos_theta])\n",
        "plt.title(\"Gradient\")\n",
        "plt.xlabel(\"Theta\")\n",
        "\n",
        "plt.show()"
      ],
      "execution_count": null,
      "outputs": [
        {
          "output_type": "display_data",
          "data": {
            "image/png": "[encoded data removed]",
            "text/plain": [
              "<Figure size 576x720 with 2 Axes>"
            ]
          },
          "metadata": {
            "tags": [],
            "needs_background": "light"
          }
        }
      ]
    },
    {
      "cell_type": "markdown",
      "metadata": {
        "id": "KTffZoO2SQkF"
      },
      "source": [
        "### c. Given that the gradient descent algorithm uses the first derivative to  find a local minimum, which of the above loss functions is preferable for linear regression using gradient descent? Briefly explain using the above plots."
      ]
    },
    {
      "cell_type": "markdown",
      "metadata": {
        "id": "mDSGut_F8QSY"
      },
      "source": [
        "#### Answer:\n",
        "<font color=blue> \n",
        "Either function should work relatively well, as both loss landscapes are convex and well behaved. However, the gradient of the L2 loss is computationally much cheaper than the L1 loss, so we should use that considering the high number of iterations that can be expected during gradient descent\n",
        "</font>\n"
      ]
    },
    {
      "cell_type": "markdown",
      "metadata": {
        "id": "eRa1zrwFT4EU"
      },
      "source": [
        "## 2. Gradient Descent Linear Regression\n",
        "\n",
        "Here you'll implement a linear regressor using gradient descent and the diabetes dataset initialized at the top of this assignment. Using the L2-norm squared loss function, the gradient descent algorithm will follow the below given formula to update the parameters and find the optimal solution.\n",
        "______\n",
        "The model:\n",
        "\n",
        "$$ y \\approx X w $$\n",
        "\n",
        "Hypothesis:\n",
        "\n",
        "$$ h(w) = Xw $$\n",
        "______\n",
        "**Gradient Descent Update Function:**\n",
        "\n",
        "$$ w_{n+1} = w_n - \\alpha \\nabla L(w_n) $$\n",
        "\n",
        "Due to the relatively small size of the dataset, use all datapoints for computing the gradient (also known as batch gradient descent - compare to stochastic gradient descent, an optimization over batch).\n",
        "\n",
        "_____\n",
        "\n",
        "The L2-norm squared loss for this model is written as\n",
        "\n",
        "$$ L(w) = ||X w - y ||^2_2 $$\n",
        "\n",
        "_____\n",
        "\n",
        "### a. Find the gradient of the loss function with respect to w."
      ]
    },
    {
      "cell_type": "markdown",
      "metadata": {
        "id": "74W3ut5q8YcJ"
      },
      "source": [
        "#### Answer:\n",
        "<font color=blue> \n",
        "$$\\frac{dL}{dw} = 2X^T(Xw-y)$$\n",
        "</font>"
      ]
    },
    {
      "cell_type": "markdown",
      "metadata": {
        "id": "URs8LQqpkKN7"
      },
      "source": [
        "### b. Implement the following methods to perform linear regression using gradient descent."
      ]
    },
    {
      "cell_type": "code",
      "metadata": {
        "id": "ALoDcIeJSv3y"
      },
      "source": [
        "def gd_linreg(X, y, alpha, loss_func, derivative_func, epsilon=0.001, max_iters=10000):\n",
        "    \"\"\"\n",
        "    Performs linear regression on X and y using gradient descent\n",
        "\n",
        "    Input:\n",
        "    X: n x m matrix - n datapoints, m features\n",
        "    y: n length vector\n",
        "    alpha: step size for gradient descent update\n",
        "    loss_func: method to compute loss between two quantities\n",
        "    derivative_func: method to compute gradient wrt w\n",
        "    epsilon: maximum difference between the w_n+1 and w_n for convergence \n",
        "\n",
        "    Output:\n",
        "    w: m length vector - weights for each feature of a data point\n",
        "    losses: array of losses at each step/iteration\n",
        "    \"\"\"\n",
        "    # TODO: fill in the ellipses\n",
        "    w = np.random.uniform(size=X.shape[1])\n",
        "    losses = []\n",
        "\n",
        "    for i in range(max_iters):\n",
        "      losses.append(loss_func(X, w, y))\n",
        "      step_value = alpha*derivative_func(X, w, y)\n",
        "      if np.linalg.norm(step_value) < epsilon:\n",
        "        break\n",
        "      w = w - step_value\n",
        "\n",
        "    return w, losses"
      ],
      "execution_count": null,
      "outputs": []
    },
    {
      "cell_type": "code",
      "metadata": {
        "id": "mouSJhk3Mft0"
      },
      "source": [
        "def loss_linreg(X, w, y):\n",
        "    \"\"\"\n",
        "    Evaluates the loss function\n",
        "    \n",
        "    Input:\n",
        "    X: n x m - n datapoints, m features\n",
        "    w: m length vector - weights for features in X\n",
        "    y: n length vector\n",
        "    \n",
        "    Output:\n",
        "    loss: scalar\n",
        "    \"\"\"\n",
        "    #TODO:\n",
        "    loss = np.linalg.norm(np.square(np.dot(X, w) - y))\n",
        "\n",
        "    return loss\n"
      ],
      "execution_count": null,
      "outputs": []
    },
    {
      "cell_type": "code",
      "metadata": {
        "id": "y-nBBibeKjKl"
      },
      "source": [
        "def derivative_loss_linreg(X, w, y):\n",
        "    \"\"\"\n",
        "    Finds the derivative of the loss function wrt w\n",
        "    \n",
        "    Input:\n",
        "    X: n x m - n datapoints, m features\n",
        "    w: m length vector - weights for features in X\n",
        "    y: n length vector\n",
        "\n",
        "    Output:\n",
        "    gradient: length m array - gradient wrt w\n",
        "    \"\"\"\n",
        "    #TODO:\n",
        "    grad = 2*X.T@(np.dot(X,w) - y)\n",
        "\n",
        "    return grad\n"
      ],
      "execution_count": null,
      "outputs": []
    },
    {
      "cell_type": "markdown",
      "metadata": {
        "id": "UCRPxQ4Rj9yU"
      },
      "source": [
        "### c. Run gradient descent with an appropriate step size."
      ]
    },
    {
      "cell_type": "code",
      "metadata": {
        "id": "lbtnhZq2sOWi"
      },
      "source": [
        "# TODO: set an appropriate alpha\n",
        "alpha = 0.3\n",
        "\n",
        "diabetes_w, losses = gd_linreg(diabetes_X_train, diabetes_y_train, alpha, loss_linreg, derivative_loss_linreg)"
      ],
      "execution_count": null,
      "outputs": []
    },
    {
      "cell_type": "code",
      "metadata": {
        "id": "77vjAP4snO4q",
        "colab": {
          "base_uri": "https://localhost:8080/",
          "height": 281
        },
        "outputId": "c97e07fb-1926-4539-b998-e0d95a493aaa"
      },
      "source": [
        "# Plot losses (may help find a good value for alpha)\n",
        "num_iter = len(losses)\n",
        "\n",
        "plt.title(\"Loss over Iterations of Gradient Descent\")\n",
        "plt.plot(range(1, num_iter+1), losses, c = 'orange');"
      ],
      "execution_count": null,
      "outputs": [
        {
          "output_type": "display_data",
          "data": {
            "image/png": "[encoded data removed]",
            "text/plain": [
              "<Figure size 432x288 with 1 Axes>"
            ]
          },
          "metadata": {
            "tags": [],
            "needs_background": "light"
          }
        }
      ]
    },
    {
      "cell_type": "markdown",
      "metadata": {
        "id": "XE5D5T_LpINE"
      },
      "source": [
        "## 3. Evaluate your Implementation\n",
        "\n",
        "### a. Find the loss for the training set and the test set using the weights found with gradient descent."
      ]
    },
    {
      "cell_type": "code",
      "metadata": {
        "id": "AKspdYBRtmLI",
        "colab": {
          "base_uri": "https://localhost:8080/"
        },
        "outputId": "0d2e19a9-ad18-4b25-ca8b-3f4192af8e2b"
      },
      "source": [
        "# TODO:\n",
        "gd_train_loss = loss_linreg(diabetes_X_train, diabetes_w, diabetes_y_train)\n",
        "gd_test_loss = loss_linreg(diabetes_X_test, diabetes_w, diabetes_y_test)\n",
        "\n",
        "print(\"Method: Gradient Descent\")\n",
        "print(\"Training Loss: \" + str(gd_train_loss))\n",
        "print(\"Test Loss: \" + str(gd_test_loss))"
      ],
      "execution_count": null,
      "outputs": [
        {
          "output_type": "stream",
          "text": [
            "Method: Gradient Descent\n",
            "Training Loss: 562114.7724915857\n",
            "Test Loss: 344145.7809258805\n"
          ],
          "name": "stdout"
        }
      ]
    },
    {
      "cell_type": "markdown",
      "metadata": {
        "id": "vUGxorrEtmnv"
      },
      "source": [
        "### b. Write and implement the OLS solution for w.\n",
        "\n",
        "The OLS solution sets the above found gradient of the loss wrt to w to 0 (from 2a) and solves for w.\n",
        "\n"
      ]
    },
    {
      "cell_type": "markdown",
      "metadata": {
        "id": "dWVkh60jEeGh"
      },
      "source": [
        "#### Answer:\n",
        "<font color=blue> \n",
        "$$w=\\frac{X^Ty}{X^TX}$$\n",
        "</font>"
      ]
    },
    {
      "cell_type": "code",
      "metadata": {
        "id": "mQX71SemiQiA"
      },
      "source": [
        "def OLS(X, y):\n",
        "    \"\"\"\n",
        "    Finds OLS solution to linear regression of X and y\n",
        "\n",
        "    Input:\n",
        "    X: n x m - n datapoints, m features\n",
        "    y: n length vector\n",
        "\n",
        "    Output:\n",
        "    w: m length vector - weights for features in X\n",
        "    \"\"\"\n",
        "\n",
        "    # TODO:\n",
        "    w = np.linalg.inv(X.T@X)@X.T@y\n",
        "\n",
        "    return w\n"
      ],
      "execution_count": null,
      "outputs": []
    },
    {
      "cell_type": "code",
      "metadata": {
        "id": "getJfguQZ9co"
      },
      "source": [
        "ols_w = OLS(diabetes_X_train, diabetes_y_train)"
      ],
      "execution_count": null,
      "outputs": []
    },
    {
      "cell_type": "markdown",
      "metadata": {
        "id": "9_MW7BW0jnf0"
      },
      "source": [
        "### c. Find the loss for the training set and the test set using the weights found with OLS."
      ]
    },
    {
      "cell_type": "code",
      "metadata": {
        "id": "2cOo2QbJbojD",
        "colab": {
          "base_uri": "https://localhost:8080/"
        },
        "outputId": "541f18a1-60fa-4c8c-e502-9ef4b672e34d"
      },
      "source": [
        "# TODO:\n",
        "ols_train_loss = loss_linreg(diabetes_X_train, ols_w, diabetes_y_train)\n",
        "ols_test_loss = loss_linreg(diabetes_X_test, ols_w, diabetes_y_test)\n",
        "\n",
        "print(\"Method: OLS\")\n",
        "print(\"Training Loss: \" + str(ols_train_loss))\n",
        "print(\"Test Loss: \" + str(ols_test_loss))"
      ],
      "execution_count": null,
      "outputs": [
        {
          "output_type": "stream",
          "text": [
            "Method: OLS\n",
            "Training Loss: 562114.6136208524\n",
            "Test Loss: 344145.8384225309\n"
          ],
          "name": "stdout"
        }
      ]
    },
    {
      "cell_type": "code",
      "metadata": {
        "id": "ZpILd8xzxQbS"
      },
      "source": [
        ""
      ],
      "execution_count": null,
      "outputs": []
    }
  ]
}